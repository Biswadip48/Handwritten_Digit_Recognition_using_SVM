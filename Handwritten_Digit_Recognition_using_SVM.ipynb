{
 "cells": [
  {
   "cell_type": "code",
   "execution_count": 10,
   "id": "942a59c4-5613-4b10-8849-30a84b885f54",
   "metadata": {},
   "outputs": [
    {
     "name": "stdout",
     "output_type": "stream",
     "text": [
      "saved...... 0\n",
      "clear screen now and redraw now........\n",
      "saved...... 1\n",
      "clear screen now and redraw now........\n",
      "saved...... 2\n",
      "clear screen now and redraw now........\n",
      "saved...... 3\n",
      "clear screen now and redraw now........\n",
      "saved...... 4\n",
      "clear screen now and redraw now........\n",
      "saved...... 5\n",
      "clear screen now and redraw now........\n",
      "saved...... 6\n",
      "clear screen now and redraw now........\n",
      "saved...... 7\n",
      "clear screen now and redraw now........\n",
      "saved...... 8\n",
      "clear screen now and redraw now........\n",
      "saved...... 9\n",
      "clear screen now and redraw now........\n",
      "saved...... 10\n",
      "clear screen now and redraw now........\n",
      "saved...... 11\n",
      "clear screen now and redraw now........\n",
      "saved...... 12\n",
      "clear screen now and redraw now........\n",
      "saved...... 13\n",
      "clear screen now and redraw now........\n",
      "saved...... 14\n",
      "clear screen now and redraw now........\n",
      "saved...... 15\n",
      "clear screen now and redraw now........\n",
      "saved...... 16\n",
      "clear screen now and redraw now........\n",
      "saved...... 17\n",
      "clear screen now and redraw now........\n",
      "saved...... 18\n",
      "clear screen now and redraw now........\n",
      "saved...... 19\n",
      "clear screen now and redraw now........\n",
      "saved...... 20\n",
      "clear screen now and redraw now........\n",
      "saved...... 21\n",
      "clear screen now and redraw now........\n",
      "saved...... 22\n",
      "clear screen now and redraw now........\n",
      "saved...... 23\n",
      "clear screen now and redraw now........\n",
      "saved...... 24\n",
      "clear screen now and redraw now........\n",
      "saved...... 25\n",
      "clear screen now and redraw now........\n",
      "saved...... 26\n",
      "clear screen now and redraw now........\n",
      "saved...... 27\n",
      "clear screen now and redraw now........\n",
      "saved...... 28\n",
      "clear screen now and redraw now........\n",
      "saved...... 29\n",
      "clear screen now and redraw now........\n",
      "saved...... 30\n",
      "clear screen now and redraw now........\n",
      "saved...... 31\n",
      "clear screen now and redraw now........\n",
      "saved...... 32\n",
      "clear screen now and redraw now........\n",
      "saved...... 33\n",
      "clear screen now and redraw now........\n",
      "saved...... 34\n",
      "clear screen now and redraw now........\n",
      "saved...... 35\n",
      "clear screen now and redraw now........\n",
      "saved...... 36\n",
      "clear screen now and redraw now........\n",
      "saved...... 37\n",
      "clear screen now and redraw now........\n",
      "saved...... 38\n",
      "clear screen now and redraw now........\n",
      "saved...... 39\n",
      "clear screen now and redraw now........\n",
      "saved...... 40\n",
      "clear screen now and redraw now........\n",
      "saved...... 41\n",
      "clear screen now and redraw now........\n",
      "saved...... 42\n",
      "clear screen now and redraw now........\n",
      "saved...... 43\n",
      "clear screen now and redraw now........\n",
      "saved...... 44\n",
      "clear screen now and redraw now........\n",
      "saved...... 45\n",
      "clear screen now and redraw now........\n",
      "saved...... 46\n",
      "clear screen now and redraw now........\n",
      "saved...... 47\n",
      "clear screen now and redraw now........\n",
      "saved...... 48\n",
      "clear screen now and redraw now........\n",
      "saved...... 49\n",
      "clear screen now and redraw now........\n",
      "saved...... 50\n",
      "clear screen now and redraw now........\n",
      "saved...... 51\n",
      "clear screen now and redraw now........\n",
      "saved...... 52\n",
      "clear screen now and redraw now........\n",
      "saved...... 53\n",
      "clear screen now and redraw now........\n",
      "saved...... 54\n",
      "clear screen now and redraw now........\n",
      "saved...... 55\n",
      "clear screen now and redraw now........\n",
      "saved...... 56\n",
      "clear screen now and redraw now........\n",
      "saved...... 57\n",
      "clear screen now and redraw now........\n",
      "saved...... 58\n",
      "clear screen now and redraw now........\n",
      "saved...... 59\n",
      "clear screen now and redraw now........\n",
      "saved...... 60\n",
      "clear screen now and redraw now........\n",
      "saved...... 61\n",
      "clear screen now and redraw now........\n",
      "saved...... 62\n",
      "clear screen now and redraw now........\n",
      "saved...... 63\n",
      "clear screen now and redraw now........\n",
      "saved...... 64\n",
      "clear screen now and redraw now........\n",
      "saved...... 65\n",
      "clear screen now and redraw now........\n",
      "saved...... 66\n",
      "clear screen now and redraw now........\n",
      "saved...... 67\n",
      "clear screen now and redraw now........\n",
      "saved...... 68\n",
      "clear screen now and redraw now........\n",
      "saved...... 69\n",
      "clear screen now and redraw now........\n",
      "saved...... 70\n",
      "clear screen now and redraw now........\n",
      "saved...... 71\n",
      "clear screen now and redraw now........\n",
      "saved...... 72\n",
      "clear screen now and redraw now........\n",
      "saved...... 73\n",
      "clear screen now and redraw now........\n",
      "saved...... 74\n",
      "clear screen now and redraw now........\n",
      "saved...... 75\n",
      "clear screen now and redraw now........\n",
      "saved...... 76\n",
      "clear screen now and redraw now........\n",
      "saved...... 77\n",
      "clear screen now and redraw now........\n",
      "saved...... 78\n",
      "clear screen now and redraw now........\n",
      "saved...... 79\n",
      "clear screen now and redraw now........\n",
      "saved...... 80\n",
      "clear screen now and redraw now........\n",
      "saved...... 81\n",
      "clear screen now and redraw now........\n",
      "saved...... 82\n",
      "clear screen now and redraw now........\n",
      "saved...... 83\n",
      "clear screen now and redraw now........\n",
      "saved...... 84\n",
      "clear screen now and redraw now........\n",
      "saved...... 85\n",
      "clear screen now and redraw now........\n",
      "saved...... 86\n",
      "clear screen now and redraw now........\n",
      "saved...... 87\n",
      "clear screen now and redraw now........\n",
      "saved...... 88\n",
      "clear screen now and redraw now........\n",
      "saved...... 89\n",
      "clear screen now and redraw now........\n",
      "saved...... 90\n",
      "clear screen now and redraw now........\n",
      "saved...... 91\n",
      "clear screen now and redraw now........\n",
      "saved...... 92\n",
      "clear screen now and redraw now........\n",
      "saved...... 93\n",
      "clear screen now and redraw now........\n",
      "saved...... 94\n",
      "clear screen now and redraw now........\n",
      "saved...... 95\n",
      "clear screen now and redraw now........\n",
      "saved...... 96\n",
      "clear screen now and redraw now........\n",
      "saved...... 97\n",
      "clear screen now and redraw now........\n",
      "saved...... 98\n",
      "clear screen now and redraw now........\n",
      "saved...... 99\n",
      "clear screen now and redraw now........\n"
     ]
    }
   ],
   "source": [
    "import pyscreenshot as ImageGrab\n",
    "import time\n",
    "images_folder=\"C:\\\\Users\\\\sdey7\\\\Python Programs\\\\capture_image\\\\9\\\\\"\n",
    "for i in range(0,100):\n",
    "   time.sleep(12)\n",
    "   im=ImageGrab.grab(bbox=(200,415,870,790)) #x1,y1,x2,y2\n",
    "   print(\"saved......\",i)\n",
    "   im.save(images_folder+str(i)+'.png')\n",
    "   print(\"clear screen now and redraw now........\")"
   ]
  },
  {
   "cell_type": "code",
   "execution_count": 3,
   "id": "34be3562-f86b-4802-9326-cb61e69f5412",
   "metadata": {},
   "outputs": [],
   "source": [
    "#Generate dataset\n",
    "import cv2\n",
    "import csv\n",
    "import glob\n",
    "  \n",
    "header  =[\"label\"]\n",
    "for i in range(0,784):\n",
    "   header.append(\"pixel\"+str(i))\n",
    "with open('dataset.csv', 'a') as f:\n",
    "   writer = csv.writer(f)\n",
    "   writer.writerow(header)\n",
    "    \n",
    "for label in range(10):\n",
    "   dirList = glob.glob(\"C:\\\\Users\\\\sdey7\\\\Python Programs\\\\capture_image\\\\\"+str(label)+\"/*.png\")\n",
    "    \n",
    "   for img_path in dirList:\n",
    "       im= cv2.imread(img_path)\n",
    "       im_gray = cv2.cvtColor(im,cv2.COLOR_BGR2GRAY)\n",
    "       im_gray = cv2.GaussianBlur(im_gray,(15,15), 0)\n",
    "       roi= cv2.resize(im_gray,(28,28), interpolation=cv2.INTER_AREA)\n",
    "        \n",
    "       data=[]\n",
    "       data.append(label)\n",
    "       rows, cols = roi.shape\n",
    "        \n",
    "       ## Fill the data array with pixels one by one.\n",
    "       for i in range(rows):\n",
    "           for j in range(cols):\n",
    "               k =roi[i,j]\n",
    "               if k>100:\n",
    "                   k=1\n",
    "               else:\n",
    "                   k=0\n",
    "               data.append(k)\n",
    "       with open('dataset.csv', 'a') as f:\n",
    "           writer = csv.writer(f)\n",
    "           writer.writerow(data)"
   ]
  },
  {
   "cell_type": "code",
   "execution_count": 4,
   "id": "d854ca9e-947a-4760-859c-b323d032454b",
   "metadata": {},
   "outputs": [
    {
     "name": "stdout",
     "output_type": "stream",
     "text": [
      "     label  pixel0  pixel1  pixel2  pixel3  pixel4  pixel5  pixel6  pixel7  \\\n",
      "207      2       0       0       0       0       0       0       0       0   \n",
      "0        0       0       0       0       0       0       0       0       0   \n",
      "357      3       0       0       0       0       0       0       0       0   \n",
      "835      8       0       0       0       0       0       0       0       0   \n",
      "970      9       0       0       0       0       0       0       0       0   \n",
      "..     ...     ...     ...     ...     ...     ...     ...     ...     ...   \n",
      "259      2       0       0       0       0       0       0       0       0   \n",
      "521      5       0       0       0       0       0       0       0       0   \n",
      "746      7       0       0       0       0       0       0       0       0   \n",
      "724      7       0       0       0       0       0       0       0       0   \n",
      "252      2       0       0       0       0       0       0       0       0   \n",
      "\n",
      "     pixel8  ...  pixel774  pixel775  pixel776  pixel777  pixel778  pixel779  \\\n",
      "207       0  ...         0         0         0         0         0         0   \n",
      "0         0  ...         0         0         0         0         0         0   \n",
      "357       0  ...         0         0         0         0         0         0   \n",
      "835       0  ...         0         0         0         0         0         0   \n",
      "970       0  ...         0         0         0         0         0         0   \n",
      "..      ...  ...       ...       ...       ...       ...       ...       ...   \n",
      "259       0  ...         0         0         0         0         0         0   \n",
      "521       0  ...         0         0         0         0         0         0   \n",
      "746       0  ...         0         0         0         0         0         0   \n",
      "724       0  ...         0         0         0         0         0         0   \n",
      "252       0  ...         0         0         0         0         0         0   \n",
      "\n",
      "     pixel780  pixel781  pixel782  pixel783  \n",
      "207         0         0         0         0  \n",
      "0           0         0         0         0  \n",
      "357         0         0         0         0  \n",
      "835         0         0         0         0  \n",
      "970         0         0         0         0  \n",
      "..        ...       ...       ...       ...  \n",
      "259         0         0         0         0  \n",
      "521         0         0         0         0  \n",
      "746         0         0         0         0  \n",
      "724         0         0         0         0  \n",
      "252         0         0         0         0  \n",
      "\n",
      "[1000 rows x 785 columns]\n"
     ]
    }
   ],
   "source": [
    "import pandas as pd #pip install pandas\n",
    "from sklearn.utils import shuffle #pip install scikit-learn\n",
    "#0,....,1.....,2.....\n",
    "#5,3,1,0,2,5,.......\n",
    " \n",
    "data = pd.read_csv('dataset.csv')\n",
    "data = shuffle(data)\n",
    "print(data)"
   ]
  },
  {
   "cell_type": "code",
   "execution_count": 5,
   "id": "671b337a-bc03-4f9e-99bd-abe5d28f0a3c",
   "metadata": {},
   "outputs": [],
   "source": [
    "X = data.drop([\"label\"],axis=1)\n",
    "Y= data[\"label\"]"
   ]
  },
  {
   "cell_type": "code",
   "execution_count": 6,
   "id": "6cdb603d-7f57-4553-af2c-f9544f37e3ef",
   "metadata": {},
   "outputs": [
    {
     "name": "stdout",
     "output_type": "stream",
     "text": [
      "3\n"
     ]
    },
    {
     "data": {
      "text/plain": [
       "<matplotlib.image.AxesImage at 0x25072b43490>"
      ]
     },
     "execution_count": 6,
     "metadata": {},
     "output_type": "execute_result"
    },
    {
     "data": {
      "image/png": "[encoded data removed]",
      "text/plain": [
       "<Figure size 640x480 with 1 Axes>"
      ]
     },
     "metadata": {},
     "output_type": "display_data"
    }
   ],
   "source": [
    "%matplotlib inline\n",
    "import matplotlib.pyplot as plt\n",
    "import cv2\n",
    "idx = 314\n",
    "img = X.loc[idx].values.reshape(28,28)\n",
    "print(Y[idx])\n",
    "plt.imshow(img)"
   ]
  },
  {
   "cell_type": "code",
   "execution_count": 7,
   "id": "2b0cea83-908b-41b1-a424-125604109e80",
   "metadata": {},
   "outputs": [],
   "source": [
    "from sklearn.model_selection import train_test_split\n",
    "train_x,test_x,train_y,test_y = train_test_split(X,Y, test_size = 0.2)"
   ]
  },
  {
   "cell_type": "code",
   "execution_count": 8,
   "id": "dee0527d-e27a-44eb-8cbd-d638451d5e66",
   "metadata": {},
   "outputs": [
    {
     "data": {
      "text/plain": [
       "['model/digit_recognizer']"
      ]
     },
     "execution_count": 8,
     "metadata": {},
     "output_type": "execute_result"
    }
   ],
   "source": [
    "import joblib\n",
    "from sklearn.svm import SVC\n",
    "classifier=SVC(kernel=\"linear\", random_state=6)\n",
    "classifier.fit(train_x,train_y)\n",
    "joblib.dump(classifier, \"model/digit_recognizer\")"
   ]
  },
  {
   "cell_type": "code",
   "execution_count": 9,
   "id": "52a50a8a-938b-4b03-befa-390e3a2f41a5",
   "metadata": {},
   "outputs": [
    {
     "name": "stdout",
     "output_type": "stream",
     "text": [
      "Accuracy=  0.89\n"
     ]
    }
   ],
   "source": [
    "from sklearn import metrics\n",
    "prediction=classifier.predict(test_x)\n",
    "print(\"Accuracy= \",metrics.accuracy_score(prediction, test_y))"
   ]
  },
  {
   "cell_type": "code",
   "execution_count": 12,
   "id": "651e896f-b5d2-4e90-bc07-3e64f3a6bfd6",
   "metadata": {},
   "outputs": [
    {
     "name": "stderr",
     "output_type": "stream",
     "text": [
      "C:\\Users\\sdey7\\AppData\\Local\\Programs\\Python\\Python311\\Lib\\site-packages\\sklearn\\base.py:465: UserWarning: X does not have valid feature names, but SVC was fitted with feature names\n",
      "  warnings.warn(\n"
     ]
    },
    {
     "name": "stdout",
     "output_type": "stream",
     "text": [
      "Prediction: 0\n"
     ]
    },
    {
     "name": "stderr",
     "output_type": "stream",
     "text": [
      "C:\\Users\\sdey7\\AppData\\Local\\Programs\\Python\\Python311\\Lib\\site-packages\\sklearn\\base.py:465: UserWarning: X does not have valid feature names, but SVC was fitted with feature names\n",
      "  warnings.warn(\n"
     ]
    },
    {
     "name": "stdout",
     "output_type": "stream",
     "text": [
      "Prediction: 0\n"
     ]
    },
    {
     "name": "stderr",
     "output_type": "stream",
     "text": [
      "C:\\Users\\sdey7\\AppData\\Local\\Programs\\Python\\Python311\\Lib\\site-packages\\sklearn\\base.py:465: UserWarning: X does not have valid feature names, but SVC was fitted with feature names\n",
      "  warnings.warn(\n"
     ]
    },
    {
     "name": "stdout",
     "output_type": "stream",
     "text": [
      "Prediction: 2\n"
     ]
    },
    {
     "name": "stderr",
     "output_type": "stream",
     "text": [
      "C:\\Users\\sdey7\\AppData\\Local\\Programs\\Python\\Python311\\Lib\\site-packages\\sklearn\\base.py:465: UserWarning: X does not have valid feature names, but SVC was fitted with feature names\n",
      "  warnings.warn(\n"
     ]
    },
    {
     "name": "stdout",
     "output_type": "stream",
     "text": [
      "Prediction: 4\n"
     ]
    },
    {
     "name": "stderr",
     "output_type": "stream",
     "text": [
      "C:\\Users\\sdey7\\AppData\\Local\\Programs\\Python\\Python311\\Lib\\site-packages\\sklearn\\base.py:465: UserWarning: X does not have valid feature names, but SVC was fitted with feature names\n",
      "  warnings.warn(\n"
     ]
    },
    {
     "name": "stdout",
     "output_type": "stream",
     "text": [
      "Prediction: 5\n"
     ]
    },
    {
     "name": "stderr",
     "output_type": "stream",
     "text": [
      "C:\\Users\\sdey7\\AppData\\Local\\Programs\\Python\\Python311\\Lib\\site-packages\\sklearn\\base.py:465: UserWarning: X does not have valid feature names, but SVC was fitted with feature names\n",
      "  warnings.warn(\n"
     ]
    },
    {
     "name": "stdout",
     "output_type": "stream",
     "text": [
      "Prediction: 5\n"
     ]
    },
    {
     "name": "stderr",
     "output_type": "stream",
     "text": [
      "C:\\Users\\sdey7\\AppData\\Local\\Programs\\Python\\Python311\\Lib\\site-packages\\sklearn\\base.py:465: UserWarning: X does not have valid feature names, but SVC was fitted with feature names\n",
      "  warnings.warn(\n"
     ]
    },
    {
     "name": "stdout",
     "output_type": "stream",
     "text": [
      "Prediction: 7\n"
     ]
    },
    {
     "name": "stderr",
     "output_type": "stream",
     "text": [
      "C:\\Users\\sdey7\\AppData\\Local\\Programs\\Python\\Python311\\Lib\\site-packages\\sklearn\\base.py:465: UserWarning: X does not have valid feature names, but SVC was fitted with feature names\n",
      "  warnings.warn(\n"
     ]
    },
    {
     "name": "stdout",
     "output_type": "stream",
     "text": [
      "Prediction: 0\n"
     ]
    },
    {
     "ename": "KeyboardInterrupt",
     "evalue": "",
     "output_type": "error",
     "traceback": [
      "\u001b[1;31m---------------------------------------------------------------------------\u001b[0m",
      "\u001b[1;31mKeyboardInterrupt\u001b[0m                         Traceback (most recent call last)",
      "Cell \u001b[1;32mIn[12], line 45\u001b[0m\n\u001b[0;32m     43\u001b[0m cv2\u001b[38;5;241m.\u001b[39mnamedWindow(\u001b[38;5;124m\"\u001b[39m\u001b[38;5;124mResult\u001b[39m\u001b[38;5;124m\"\u001b[39m)\n\u001b[0;32m     44\u001b[0m cv2\u001b[38;5;241m.\u001b[39mimshow(\u001b[38;5;124m\"\u001b[39m\u001b[38;5;124mResult\u001b[39m\u001b[38;5;124m\"\u001b[39m,im)\n\u001b[1;32m---> 45\u001b[0m \u001b[43mcv2\u001b[49m\u001b[38;5;241;43m.\u001b[39;49m\u001b[43mwaitKey\u001b[49m\u001b[43m(\u001b[49m\u001b[38;5;241;43m10000\u001b[39;49m\u001b[43m)\u001b[49m\n\u001b[0;32m     46\u001b[0m \u001b[38;5;28;01mif\u001b[39;00m cv2\u001b[38;5;241m.\u001b[39mwaitKey(\u001b[38;5;241m1\u001b[39m)\u001b[38;5;241m==\u001b[39m\u001b[38;5;241m13\u001b[39m: \u001b[38;5;66;03m#27 is the ascii value of esc, 13 is the ascii value of enter\u001b[39;00m\n\u001b[0;32m     47\u001b[0m     \u001b[38;5;28;01mbreak\u001b[39;00m\n",
      "\u001b[1;31mKeyboardInterrupt\u001b[0m: "
     ]
    }
   ],
   "source": [
    "#prediction of image drawn in paint\n",
    "  \n",
    "import joblib\n",
    "import cv2\n",
    "import numpy as np #pip install numpy\n",
    "import time\n",
    "import pyscreenshot as ImageGrab\n",
    "  \n",
    "model=joblib.load(\"model/digit_recognizer\")\n",
    "images_folder=\"img/\"\n",
    "  \n",
    "while True:\n",
    "   img=ImageGrab.grab(bbox=(200,415,870,790))\n",
    "    \n",
    "   img.save(images_folder+\"img.png\")\n",
    "   im = cv2.imread(images_folder+\"img.png\")\n",
    "   im_gray = cv2.cvtColor(im,cv2.COLOR_BGR2GRAY)\n",
    "   im_gray  =cv2.GaussianBlur(im_gray, (15,15), 0)\n",
    "    \n",
    "   #Threshold the image\n",
    "   ret, im_th = cv2.threshold(im_gray,100, 255, cv2.THRESH_BINARY)\n",
    "   roi = cv2.resize(im_th, (28,28), interpolation  =cv2.INTER_AREA)\n",
    "    \n",
    "   rows,cols=roi.shape\n",
    "    \n",
    "   X = []\n",
    "    \n",
    "   ##  Fill the data array with pixels one by one.\n",
    "   for i in range(rows):\n",
    "       for j in range(cols):\n",
    "           k = roi[i,j]\n",
    "           if k>100:\n",
    "               k=1\n",
    "           else:\n",
    "               k=0\n",
    "           X.append(k)\n",
    "            \n",
    "   predictions  =model.predict([X])\n",
    "   print(\"Prediction:\",predictions[0])\n",
    "   cv2.putText(im, \"Prediction is: \"+str(predictions[0]), (20,20), 0, 0.8,(0,255,0),2,cv2.LINE_AA)\n",
    "    \n",
    "   cv2.startWindowThread()\n",
    "   cv2.namedWindow(\"Result\")\n",
    "   cv2.imshow(\"Result\",im)\n",
    "   cv2.waitKey(10000)\n",
    "   if cv2.waitKey(1)==13: #27 is the ascii value of esc, 13 is the ascii value of enter\n",
    "       break\n",
    "cv2.destroyAllWindows()"
   ]
  },
  {
   "cell_type": "code",
   "execution_count": null,
   "id": "ed0f966e-d588-408f-824a-fa9018c92ff6",
   "metadata": {},
   "outputs": [],
   "source": []
  },
  {
   "cell_type": "code",
   "execution_count": null,
   "id": "843f34dd-dc04-4fdd-87eb-96d2a550ea38",
   "metadata": {},
   "outputs": [],
   "source": []
  }
 ],
 "metadata": {
  "kernelspec": {
   "display_name": "Python 3 (ipykernel)",
   "language": "python",
   "name": "python3"
  },
  "language_info": {
   "codemirror_mode": {
    "name": "ipython",
    "version": 3
   },
   "file_extension": ".py",
   "mimetype": "text/x-python",
   "name": "python",
   "nbconvert_exporter": "python",
   "pygments_lexer": "ipython3",
   "version": "3.11.7"
  }
 },
 "nbformat": 4,
 "nbformat_minor": 5
}
